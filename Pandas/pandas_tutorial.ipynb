{
 "cells": [
  {
   "cell_type": "markdown",
   "id": "802eef79",
   "metadata": {},
   "source": [
    "# Introduction to Pandas DataFrame and Series"
   ]
  },
  {
   "cell_type": "markdown",
   "id": "1e0dee43",
   "metadata": {},
   "source": [
    "## Pandas DataFrame and Series – Data Structure\n",
    "A **Series** is a one-dimensional array-like object containing an array of data and an associated array of labels (index).\n",
    "A **DataFrame** is a two-dimensional, size-mutable, tabular data structure with labeled axes (rows and columns)."
   ]
  },
  {
   "cell_type": "code",
   "execution_count": null,
   "id": "383e7905",
   "metadata": {},
   "outputs": [],
   "source": [
    "import pandas as pd\n",
    "\n",
    "# Creating a Series\n",
    "data = [10, 20, 30, 40]\n",
    "series = pd.Series(data, index=['a', 'b', 'c', 'd'])\n",
    "print(\"Series:\")\n",
    "print(series)\n",
    "\n",
    "# Creating a DataFrame\n",
    "data_dict = {\n",
    "    'Name': ['Alice', 'Bob', 'Charlie', 'David'],\n",
    "    'Age': [24, 27, 22, 32],\n",
    "    'City': ['New York', 'Los Angeles', 'Chicago', 'Houston']\n",
    "}\n",
    "df = pd.DataFrame(data_dict)\n",
    "print(\"\\nDataFrame:\")\n",
    "print(df)"
   ]
  },
  {
   "cell_type": "markdown",
   "id": "00487f49",
   "metadata": {},
   "source": [
    "## Importing Data into DataFrames\n",
    "We can read data from different file formats such as CSV, Excel, SQL, etc. Below is an example of reading a CSV file."
   ]
  },
  {
   "cell_type": "code",
   "execution_count": null,
   "id": "4cf7774a",
   "metadata": {},
   "outputs": [],
   "source": [
    "# Example: Importing data from CSV (for demonstration we will create CSV using pandas)\n",
    "sample_data = {\n",
    "    'Product': ['Laptop', 'Phone', 'Tablet'],\n",
    "    'Price': [1200, 800, 300],\n",
    "    'Quantity': [5, 10, 15]\n",
    "}\n",
    "sample_df = pd.DataFrame(sample_data)\n",
    "sample_df.to_csv('sample.csv', index=False)\n",
    "\n",
    "# Now import it\n",
    "df_csv = pd.read_csv('sample.csv')\n",
    "print(\"DataFrame from CSV:\")\n",
    "print(df_csv)"
   ]
  },
  {
   "cell_type": "markdown",
   "id": "831931cc",
   "metadata": {},
   "source": [
    "## Indexing DataFrames\n",
    "Pandas provides multiple ways to index data: by column name, by row index, or using `.loc` and `.iloc` methods."
   ]
  },
  {
   "cell_type": "code",
   "execution_count": null,
   "id": "41679daa",
   "metadata": {},
   "outputs": [],
   "source": [
    "# Column indexing\n",
    "print(\"Prices Column:\")\n",
    "print(df_csv['Price'])\n",
    "\n",
    "# Row indexing using iloc\n",
    "print(\"\\nFirst Row:\")\n",
    "print(df_csv.iloc[0])\n",
    "\n",
    "# Row indexing using loc\n",
    "print(\"\\nRow with index 1:\")\n",
    "print(df_csv.loc[1])"
   ]
  },
  {
   "cell_type": "markdown",
   "id": "18d7a385",
   "metadata": {},
   "source": [
    "## Basic Operations on DataFrames\n",
    "Let's perform some common operations like renaming columns, subsetting, and filtering data."
   ]
  },
  {
   "cell_type": "code",
   "execution_count": null,
   "id": "0c454970",
   "metadata": {},
   "outputs": [],
   "source": [
    "# Renaming Columns\n",
    "df_csv_renamed = df_csv.rename(columns={'Product': 'Item', 'Price': 'Cost'})\n",
    "print(\"Renamed DataFrame:\")\n",
    "print(df_csv_renamed)\n",
    "\n",
    "# Subsetting\n",
    "subset = df_csv_renamed[['Item', 'Cost']]\n",
    "print(\"\\nSubset DataFrame:\")\n",
    "print(subset)\n",
    "\n",
    "# Filtering\n",
    "filtered = df_csv_renamed[df_csv_renamed['Cost'] > 500]\n",
    "print(\"\\nFiltered DataFrame (Cost > 500):\")\n",
    "print(filtered)"
   ]
  },
  {
   "cell_type": "markdown",
   "id": "db2b51dd",
   "metadata": {},
   "source": [
    "## Data Imputation in DataFrame\n",
    "Data imputation is the process of replacing missing values with substituted values. We can use methods like fillna or interpolate."
   ]
  },
  {
   "cell_type": "code",
   "execution_count": null,
   "id": "c09ad345",
   "metadata": {},
   "outputs": [],
   "source": [
    "# Example DataFrame with missing values\n",
    "import numpy as np\n",
    "data_with_nan = {\n",
    "    'A': [1, 2, np.nan, 4],\n",
    "    'B': [5, np.nan, np.nan, 8],\n",
    "    'C': [9, 10, 11, 12]\n",
    "}\n",
    "df_nan = pd.DataFrame(data_with_nan)\n",
    "print(\"DataFrame with NaN values:\")\n",
    "print(df_nan)\n",
    "\n",
    "# Impute missing values with mean\n",
    "df_filled = df_nan.fillna(df_nan.mean())\n",
    "print(\"\\nDataFrame after Mean Imputation:\")\n",
    "print(df_filled)"
   ]
  }
 ],
 "metadata": {},
 "nbformat": 4,
 "nbformat_minor": 5
}