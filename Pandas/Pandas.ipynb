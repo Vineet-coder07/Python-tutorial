{
  "nbformat": 4,
  "nbformat_minor": 0,
  "metadata": {
    "colab": {
      "provenance": []
    },
    "kernelspec": {
      "name": "python3",
      "display_name": "Python 3"
    },
    "language_info": {
      "name": "python"
    }
  },
  "cells": [
    {
      "cell_type": "markdown",
      "source": [
        "Array declaration using Pandas and accessing using user defined indices"
      ],
      "metadata": {
        "id": "zaDE7tw9yW39"
      }
    },
    {
      "cell_type": "code",
      "source": [
        "import pandas as pd;\n",
        "a=[1,2,3,4]\n",
        "chars=pd.Series(a,index=[\"First\",\"Second\",\"Third\",\"Fourth\"])\n",
        "print(chars)\n",
        "print(chars[\"First\"])\n",
        "print(chars[\"Second\"])\n",
        "print(chars[\"Third\"])\n",
        "print(chars[\"Fourth\"])\n",
        "\n"
      ],
      "metadata": {
        "colab": {
          "base_uri": "https://localhost:8080/"
        },
        "id": "F_XgDh5IybRh",
        "outputId": "79cf6f95-ef74-412d-aad0-22f9ccb9c259"
      },
      "execution_count": 2,
      "outputs": [
        {
          "output_type": "stream",
          "name": "stdout",
          "text": [
            "First     1\n",
            "Second    2\n",
            "Third     3\n",
            "Fourth    4\n",
            "dtype: int64\n",
            "1\n",
            "2\n",
            "3\n",
            "4\n"
          ]
        }
      ]
    },
    {
      "cell_type": "markdown",
      "source": [
        "Create a Dictionery"
      ],
      "metadata": {
        "id": "7e7GuR2S0Bcj"
      }
    },
    {
      "cell_type": "code",
      "source": [
        "import pandas as pd\n",
        "dict={\"Day1\" : 425,\"DAY2\" : 34 ,\"DAY3\":46}\n",
        "k=pd.Series(dict)\n",
        "print(k)"
      ],
      "metadata": {
        "colab": {
          "base_uri": "https://localhost:8080/"
        },
        "id": "fgKe-o150GB_",
        "outputId": "54d52880-3581-49b1-eea2-21efcbeb1594"
      },
      "execution_count": 8,
      "outputs": [
        {
          "output_type": "stream",
          "name": "stdout",
          "text": [
            "Day1    425\n",
            "DAY2     34\n",
            "DAY3     46\n",
            "dtype: int64\n"
          ]
        }
      ]
    },
    {
      "cell_type": "markdown",
      "source": [],
      "metadata": {
        "id": "FK8FrCGMzRBI"
      }
    },
    {
      "cell_type": "markdown",
      "source": [
        "Dataframe in pandas"
      ],
      "metadata": {
        "id": "s42KREGt2ah3"
      }
    },
    {
      "cell_type": "code",
      "source": [
        "import pandas as pd\n",
        "data={\"MachineLearning\":[1,2,3,4],\"DataStructure\":[1,2,9,7]}\n",
        "j=pd.DataFrame(data)\n",
        "print(j)\n",
        "# accesing indices in dataframe\n",
        "print(j.loc[0])\n",
        "# accessing position in dataframe\n",
        "print(j.loc[1])"
      ],
      "metadata": {
        "colab": {
          "base_uri": "https://localhost:8080/"
        },
        "id": "pYTDJsGS2ejc",
        "outputId": "a9170199-def4-43e1-fc13-087bc8fa83f4"
      },
      "execution_count": 23,
      "outputs": [
        {
          "output_type": "stream",
          "name": "stdout",
          "text": [
            "   MachineLearning  DataStructure\n",
            "0                1              1\n",
            "1                2              2\n",
            "2                3              9\n",
            "3                4              7\n",
            "MachineLearning    1\n",
            "DataStructure      1\n",
            "Name: 0, dtype: int64\n",
            "MachineLearning    2\n",
            "DataStructure      2\n",
            "Name: 1, dtype: int64\n"
          ]
        }
      ]
    },
    {
      "cell_type": "markdown",
      "source": [
        "Importing MINST dataset"
      ],
      "metadata": {
        "id": "A9Bx9ldz53l5"
      }
    },
    {
      "cell_type": "code",
      "source": [
        "import kagglehub\n",
        "\n",
        "# Download latest version\n",
        "path = kagglehub.dataset_download(\"oddrationale/mnist-in-csv\")\n",
        "\n",
        "print(\"Path to dataset files:\", path)"
      ],
      "metadata": {
        "colab": {
          "base_uri": "https://localhost:8080/"
        },
        "id": "tMqsEsuy58Df",
        "outputId": "fb5e2cd7-4267-4f37-c9b3-5e404e664153"
      },
      "execution_count": 24,
      "outputs": [
        {
          "output_type": "stream",
          "name": "stdout",
          "text": [
            "Downloading from https://www.kaggle.com/api/v1/datasets/download/oddrationale/mnist-in-csv?dataset_version_number=2...\n"
          ]
        },
        {
          "output_type": "stream",
          "name": "stderr",
          "text": [
            "100%|██████████| 15.2M/15.2M [00:00<00:00, 174MB/s]"
          ]
        },
        {
          "output_type": "stream",
          "name": "stdout",
          "text": [
            "Extracting files...\n"
          ]
        },
        {
          "output_type": "stream",
          "name": "stderr",
          "text": [
            "\n"
          ]
        },
        {
          "output_type": "stream",
          "name": "stdout",
          "text": [
            "Path to dataset files: /root/.cache/kagglehub/datasets/oddrationale/mnist-in-csv/versions/2\n"
          ]
        }
      ]
    },
    {
      "cell_type": "markdown",
      "source": [
        "Train dataset"
      ],
      "metadata": {
        "id": "4XQXKq8A6d7l"
      }
    },
    {
      "cell_type": "code",
      "source": [
        "import pandas as pd\n",
        "var=pd.read_csv(\"/content/mnist_train.csv\")\n",
        "print(var.head())\n",
        "print(var.info())\n",
        "print(var.drop(3))"
      ],
      "metadata": {
        "colab": {
          "base_uri": "https://localhost:8080/"
        },
        "id": "zqiLcH_R6kjE",
        "outputId": "32f383f0-c55e-4148-ce01-2b1c23e37757"
      },
      "execution_count": 41,
      "outputs": [
        {
          "output_type": "stream",
          "name": "stdout",
          "text": [
            "   label  1x1  1x2  1x3  1x4  1x5  1x6  1x7  1x8  1x9  ...  28x19  28x20  \\\n",
            "0      5    0    0    0    0    0    0    0    0    0  ...    0.0    0.0   \n",
            "1      0    0    0    0    0    0    0    0    0    0  ...    0.0    0.0   \n",
            "2      4    0    0    0    0    0    0    0    0    0  ...    0.0    0.0   \n",
            "3      1    0    0    0    0    0    0    0    0    0  ...    0.0    0.0   \n",
            "4      9    0    0    0    0    0    0    0    0    0  ...    0.0    0.0   \n",
            "\n",
            "   28x21  28x22  28x23  28x24  28x25  28x26  28x27  28x28  \n",
            "0    0.0    0.0    0.0    0.0    0.0    0.0    0.0    0.0  \n",
            "1    0.0    0.0    0.0    0.0    0.0    0.0    0.0    0.0  \n",
            "2    0.0    0.0    0.0    0.0    0.0    0.0    0.0    0.0  \n",
            "3    0.0    0.0    0.0    0.0    0.0    0.0    0.0    0.0  \n",
            "4    0.0    0.0    0.0    0.0    0.0    0.0    0.0    0.0  \n",
            "\n",
            "[5 rows x 785 columns]\n",
            "<class 'pandas.core.frame.DataFrame'>\n",
            "RangeIndex: 21217 entries, 0 to 21216\n",
            "Columns: 785 entries, label to 28x28\n",
            "dtypes: float64(401), int64(384)\n",
            "memory usage: 127.1 MB\n",
            "None\n",
            "       label  1x1  1x2  1x3  1x4  1x5  1x6  1x7  1x8  1x9  ...  28x19  28x20  \\\n",
            "0          5    0    0    0    0    0    0    0    0    0  ...    0.0    0.0   \n",
            "1          0    0    0    0    0    0    0    0    0    0  ...    0.0    0.0   \n",
            "2          4    0    0    0    0    0    0    0    0    0  ...    0.0    0.0   \n",
            "4          9    0    0    0    0    0    0    0    0    0  ...    0.0    0.0   \n",
            "5          2    0    0    0    0    0    0    0    0    0  ...    0.0    0.0   \n",
            "...      ...  ...  ...  ...  ...  ...  ...  ...  ...  ...  ...    ...    ...   \n",
            "21212      8    0    0    0    0    0    0    0    0    0  ...    0.0    0.0   \n",
            "21213      9    0    0    0    0    0    0    0    0    0  ...    0.0    0.0   \n",
            "21214      6    0    0    0    0    0    0    0    0    0  ...    0.0    0.0   \n",
            "21215      0    0    0    0    0    0    0    0    0    0  ...    0.0    0.0   \n",
            "21216      0    0    0    0    0    0    0    0    0    0  ...    NaN    NaN   \n",
            "\n",
            "       28x21  28x22  28x23  28x24  28x25  28x26  28x27  28x28  \n",
            "0        0.0    0.0    0.0    0.0    0.0    0.0    0.0    0.0  \n",
            "1        0.0    0.0    0.0    0.0    0.0    0.0    0.0    0.0  \n",
            "2        0.0    0.0    0.0    0.0    0.0    0.0    0.0    0.0  \n",
            "4        0.0    0.0    0.0    0.0    0.0    0.0    0.0    0.0  \n",
            "5        0.0    0.0    0.0    0.0    0.0    0.0    0.0    0.0  \n",
            "...      ...    ...    ...    ...    ...    ...    ...    ...  \n",
            "21212    0.0    0.0    0.0    0.0    0.0    0.0    0.0    0.0  \n",
            "21213    0.0    0.0    0.0    0.0    0.0    0.0    0.0    0.0  \n",
            "21214    0.0    0.0    0.0    0.0    0.0    0.0    0.0    0.0  \n",
            "21215    0.0    0.0    0.0    0.0    0.0    0.0    0.0    0.0  \n",
            "21216    NaN    NaN    NaN    NaN    NaN    NaN    NaN    NaN  \n",
            "\n",
            "[21216 rows x 785 columns]\n"
          ]
        }
      ]
    },
    {
      "cell_type": "code",
      "source": [],
      "metadata": {
        "id": "yAFmzRMU8YdU"
      },
      "execution_count": null,
      "outputs": []
    }
  ]
}